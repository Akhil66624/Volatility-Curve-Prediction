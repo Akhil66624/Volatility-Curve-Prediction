{
  "metadata": {
    "kernelspec": {
      "language": "python",
      "display_name": "Python 3",
      "name": "python3"
    },
    "language_info": {
      "name": "python",
      "version": "3.11.11",
      "mimetype": "text/x-python",
      "codemirror_mode": {
        "name": "ipython",
        "version": 3
      },
      "pygments_lexer": "ipython3",
      "nbconvert_exporter": "python",
      "file_extension": ".py"
    },
    "kaggle": {
      "accelerator": "none",
      "dataSources": [
        {
          "sourceId": 104024,
          "databundleVersionId": 12520411,
          "sourceType": "competition"
        }
      ],
      "dockerImageVersionId": 31040,
      "isInternetEnabled": true,
      "language": "python",
      "sourceType": "notebook",
      "isGpuEnabled": false
    },
    "colab": {
      "provenance": [],
      "include_colab_link": true
    },
    "widgets": {
      "application/vnd.jupyter.widget-state+json": {
        "da440643824246b580611b0c86551daf": {
          "model_module": "@jupyter-widgets/controls",
          "model_name": "VBoxModel",
          "model_module_version": "1.5.0",
          "state": {
            "_dom_classes": [],
            "_model_module": "@jupyter-widgets/controls",
            "_model_module_version": "1.5.0",
            "_model_name": "VBoxModel",
            "_view_count": null,
            "_view_module": "@jupyter-widgets/controls",
            "_view_module_version": "1.5.0",
            "_view_name": "VBoxView",
            "box_style": "",
            "children": [
              "IPY_MODEL_be1ec0ace9b540e79a68dab0df272f3e"
            ],
            "layout": "IPY_MODEL_5551dfc244b74cf699aed7bb0b5046f1"
          }
        },
        "573bea6c2b62458fbe2a269a8cf00a1f": {
          "model_module": "@jupyter-widgets/controls",
          "model_name": "HTMLModel",
          "model_module_version": "1.5.0",
          "state": {
            "_dom_classes": [],
            "_model_module": "@jupyter-widgets/controls",
            "_model_module_version": "1.5.0",
            "_model_name": "HTMLModel",
            "_view_count": null,
            "_view_module": "@jupyter-widgets/controls",
            "_view_module_version": "1.5.0",
            "_view_name": "HTMLView",
            "description": "",
            "description_tooltip": null,
            "layout": "IPY_MODEL_cf4cecc5793e447baf46e43f67e32a27",
            "placeholder": "​",
            "style": "IPY_MODEL_175b21775735468780f5b43b6d13a5b8",
            "value": "<center> <img\nsrc=https://www.kaggle.com/static/images/site-logo.png\nalt='Kaggle'> <br> Create an API token from <a\nhref=\"https://www.kaggle.com/settings/account\" target=\"_blank\">your Kaggle\nsettings page</a> and paste it below along with your Kaggle username. <br> </center>"
          }
        },
        "a0863f3d62284640be140f9f926e9f90": {
          "model_module": "@jupyter-widgets/controls",
          "model_name": "TextModel",
          "model_module_version": "1.5.0",
          "state": {
            "_dom_classes": [],
            "_model_module": "@jupyter-widgets/controls",
            "_model_module_version": "1.5.0",
            "_model_name": "TextModel",
            "_view_count": null,
            "_view_module": "@jupyter-widgets/controls",
            "_view_module_version": "1.5.0",
            "_view_name": "TextView",
            "continuous_update": true,
            "description": "Username:",
            "description_tooltip": null,
            "disabled": false,
            "layout": "IPY_MODEL_4a910b2a5837417c9a8ed14af95cf4da",
            "placeholder": "​",
            "style": "IPY_MODEL_2a2b9b031f3d458f902f7dcc270c9c80",
            "value": "akhiliitm"
          }
        },
        "f6989af76c2145868bf361778a1b4a88": {
          "model_module": "@jupyter-widgets/controls",
          "model_name": "PasswordModel",
          "model_module_version": "1.5.0",
          "state": {
            "_dom_classes": [],
            "_model_module": "@jupyter-widgets/controls",
            "_model_module_version": "1.5.0",
            "_model_name": "PasswordModel",
            "_view_count": null,
            "_view_module": "@jupyter-widgets/controls",
            "_view_module_version": "1.5.0",
            "_view_name": "PasswordView",
            "continuous_update": true,
            "description": "Token:",
            "description_tooltip": null,
            "disabled": false,
            "layout": "IPY_MODEL_365988c5af3247a48665a5b0f203ed45",
            "placeholder": "​",
            "style": "IPY_MODEL_464f6fc7346c4ca18d8e38106194df19",
            "value": ""
          }
        },
        "286572a51c21448b89ca546324cd371f": {
          "model_module": "@jupyter-widgets/controls",
          "model_name": "ButtonModel",
          "model_module_version": "1.5.0",
          "state": {
            "_dom_classes": [],
            "_model_module": "@jupyter-widgets/controls",
            "_model_module_version": "1.5.0",
            "_model_name": "ButtonModel",
            "_view_count": null,
            "_view_module": "@jupyter-widgets/controls",
            "_view_module_version": "1.5.0",
            "_view_name": "ButtonView",
            "button_style": "",
            "description": "Login",
            "disabled": false,
            "icon": "",
            "layout": "IPY_MODEL_217629c18e1e4adfb65194abaa90ca43",
            "style": "IPY_MODEL_553fd20069964882890672c2a358dd6d",
            "tooltip": ""
          }
        },
        "2fd6b62aa8eb4442b7ab4367da2096d3": {
          "model_module": "@jupyter-widgets/controls",
          "model_name": "HTMLModel",
          "model_module_version": "1.5.0",
          "state": {
            "_dom_classes": [],
            "_model_module": "@jupyter-widgets/controls",
            "_model_module_version": "1.5.0",
            "_model_name": "HTMLModel",
            "_view_count": null,
            "_view_module": "@jupyter-widgets/controls",
            "_view_module_version": "1.5.0",
            "_view_name": "HTMLView",
            "description": "",
            "description_tooltip": null,
            "layout": "IPY_MODEL_370e1bebf84e44b19889aa09688ac7d1",
            "placeholder": "​",
            "style": "IPY_MODEL_de650bfa42544ddd9e4b2b3c8d9fb77f",
            "value": "\n<b>Thank You</b></center>"
          }
        },
        "5551dfc244b74cf699aed7bb0b5046f1": {
          "model_module": "@jupyter-widgets/base",
          "model_name": "LayoutModel",
          "model_module_version": "1.2.0",
          "state": {
            "_model_module": "@jupyter-widgets/base",
            "_model_module_version": "1.2.0",
            "_model_name": "LayoutModel",
            "_view_count": null,
            "_view_module": "@jupyter-widgets/base",
            "_view_module_version": "1.2.0",
            "_view_name": "LayoutView",
            "align_content": null,
            "align_items": "center",
            "align_self": null,
            "border": null,
            "bottom": null,
            "display": "flex",
            "flex": null,
            "flex_flow": "column",
            "grid_area": null,
            "grid_auto_columns": null,
            "grid_auto_flow": null,
            "grid_auto_rows": null,
            "grid_column": null,
            "grid_gap": null,
            "grid_row": null,
            "grid_template_areas": null,
            "grid_template_columns": null,
            "grid_template_rows": null,
            "height": null,
            "justify_content": null,
            "justify_items": null,
            "left": null,
            "margin": null,
            "max_height": null,
            "max_width": null,
            "min_height": null,
            "min_width": null,
            "object_fit": null,
            "object_position": null,
            "order": null,
            "overflow": null,
            "overflow_x": null,
            "overflow_y": null,
            "padding": null,
            "right": null,
            "top": null,
            "visibility": null,
            "width": "50%"
          }
        },
        "cf4cecc5793e447baf46e43f67e32a27": {
          "model_module": "@jupyter-widgets/base",
          "model_name": "LayoutModel",
          "model_module_version": "1.2.0",
          "state": {
            "_model_module": "@jupyter-widgets/base",
            "_model_module_version": "1.2.0",
            "_model_name": "LayoutModel",
            "_view_count": null,
            "_view_module": "@jupyter-widgets/base",
            "_view_module_version": "1.2.0",
            "_view_name": "LayoutView",
            "align_content": null,
            "align_items": null,
            "align_self": null,
            "border": null,
            "bottom": null,
            "display": null,
            "flex": null,
            "flex_flow": null,
            "grid_area": null,
            "grid_auto_columns": null,
            "grid_auto_flow": null,
            "grid_auto_rows": null,
            "grid_column": null,
            "grid_gap": null,
            "grid_row": null,
            "grid_template_areas": null,
            "grid_template_columns": null,
            "grid_template_rows": null,
            "height": null,
            "justify_content": null,
            "justify_items": null,
            "left": null,
            "margin": null,
            "max_height": null,
            "max_width": null,
            "min_height": null,
            "min_width": null,
            "object_fit": null,
            "object_position": null,
            "order": null,
            "overflow": null,
            "overflow_x": null,
            "overflow_y": null,
            "padding": null,
            "right": null,
            "top": null,
            "visibility": null,
            "width": null
          }
        },
        "175b21775735468780f5b43b6d13a5b8": {
          "model_module": "@jupyter-widgets/controls",
          "model_name": "DescriptionStyleModel",
          "model_module_version": "1.5.0",
          "state": {
            "_model_module": "@jupyter-widgets/controls",
            "_model_module_version": "1.5.0",
            "_model_name": "DescriptionStyleModel",
            "_view_count": null,
            "_view_module": "@jupyter-widgets/base",
            "_view_module_version": "1.2.0",
            "_view_name": "StyleView",
            "description_width": ""
          }
        },
        "4a910b2a5837417c9a8ed14af95cf4da": {
          "model_module": "@jupyter-widgets/base",
          "model_name": "LayoutModel",
          "model_module_version": "1.2.0",
          "state": {
            "_model_module": "@jupyter-widgets/base",
            "_model_module_version": "1.2.0",
            "_model_name": "LayoutModel",
            "_view_count": null,
            "_view_module": "@jupyter-widgets/base",
            "_view_module_version": "1.2.0",
            "_view_name": "LayoutView",
            "align_content": null,
            "align_items": null,
            "align_self": null,
            "border": null,
            "bottom": null,
            "display": null,
            "flex": null,
            "flex_flow": null,
            "grid_area": null,
            "grid_auto_columns": null,
            "grid_auto_flow": null,
            "grid_auto_rows": null,
            "grid_column": null,
            "grid_gap": null,
            "grid_row": null,
            "grid_template_areas": null,
            "grid_template_columns": null,
            "grid_template_rows": null,
            "height": null,
            "justify_content": null,
            "justify_items": null,
            "left": null,
            "margin": null,
            "max_height": null,
            "max_width": null,
            "min_height": null,
            "min_width": null,
            "object_fit": null,
            "object_position": null,
            "order": null,
            "overflow": null,
            "overflow_x": null,
            "overflow_y": null,
            "padding": null,
            "right": null,
            "top": null,
            "visibility": null,
            "width": null
          }
        },
        "2a2b9b031f3d458f902f7dcc270c9c80": {
          "model_module": "@jupyter-widgets/controls",
          "model_name": "DescriptionStyleModel",
          "model_module_version": "1.5.0",
          "state": {
            "_model_module": "@jupyter-widgets/controls",
            "_model_module_version": "1.5.0",
            "_model_name": "DescriptionStyleModel",
            "_view_count": null,
            "_view_module": "@jupyter-widgets/base",
            "_view_module_version": "1.2.0",
            "_view_name": "StyleView",
            "description_width": ""
          }
        },
        "365988c5af3247a48665a5b0f203ed45": {
          "model_module": "@jupyter-widgets/base",
          "model_name": "LayoutModel",
          "model_module_version": "1.2.0",
          "state": {
            "_model_module": "@jupyter-widgets/base",
            "_model_module_version": "1.2.0",
            "_model_name": "LayoutModel",
            "_view_count": null,
            "_view_module": "@jupyter-widgets/base",
            "_view_module_version": "1.2.0",
            "_view_name": "LayoutView",
            "align_content": null,
            "align_items": null,
            "align_self": null,
            "border": null,
            "bottom": null,
            "display": null,
            "flex": null,
            "flex_flow": null,
            "grid_area": null,
            "grid_auto_columns": null,
            "grid_auto_flow": null,
            "grid_auto_rows": null,
            "grid_column": null,
            "grid_gap": null,
            "grid_row": null,
            "grid_template_areas": null,
            "grid_template_columns": null,
            "grid_template_rows": null,
            "height": null,
            "justify_content": null,
            "justify_items": null,
            "left": null,
            "margin": null,
            "max_height": null,
            "max_width": null,
            "min_height": null,
            "min_width": null,
            "object_fit": null,
            "object_position": null,
            "order": null,
            "overflow": null,
            "overflow_x": null,
            "overflow_y": null,
            "padding": null,
            "right": null,
            "top": null,
            "visibility": null,
            "width": null
          }
        },
        "464f6fc7346c4ca18d8e38106194df19": {
          "model_module": "@jupyter-widgets/controls",
          "model_name": "DescriptionStyleModel",
          "model_module_version": "1.5.0",
          "state": {
            "_model_module": "@jupyter-widgets/controls",
            "_model_module_version": "1.5.0",
            "_model_name": "DescriptionStyleModel",
            "_view_count": null,
            "_view_module": "@jupyter-widgets/base",
            "_view_module_version": "1.2.0",
            "_view_name": "StyleView",
            "description_width": ""
          }
        },
        "217629c18e1e4adfb65194abaa90ca43": {
          "model_module": "@jupyter-widgets/base",
          "model_name": "LayoutModel",
          "model_module_version": "1.2.0",
          "state": {
            "_model_module": "@jupyter-widgets/base",
            "_model_module_version": "1.2.0",
            "_model_name": "LayoutModel",
            "_view_count": null,
            "_view_module": "@jupyter-widgets/base",
            "_view_module_version": "1.2.0",
            "_view_name": "LayoutView",
            "align_content": null,
            "align_items": null,
            "align_self": null,
            "border": null,
            "bottom": null,
            "display": null,
            "flex": null,
            "flex_flow": null,
            "grid_area": null,
            "grid_auto_columns": null,
            "grid_auto_flow": null,
            "grid_auto_rows": null,
            "grid_column": null,
            "grid_gap": null,
            "grid_row": null,
            "grid_template_areas": null,
            "grid_template_columns": null,
            "grid_template_rows": null,
            "height": null,
            "justify_content": null,
            "justify_items": null,
            "left": null,
            "margin": null,
            "max_height": null,
            "max_width": null,
            "min_height": null,
            "min_width": null,
            "object_fit": null,
            "object_position": null,
            "order": null,
            "overflow": null,
            "overflow_x": null,
            "overflow_y": null,
            "padding": null,
            "right": null,
            "top": null,
            "visibility": null,
            "width": null
          }
        },
        "553fd20069964882890672c2a358dd6d": {
          "model_module": "@jupyter-widgets/controls",
          "model_name": "ButtonStyleModel",
          "model_module_version": "1.5.0",
          "state": {
            "_model_module": "@jupyter-widgets/controls",
            "_model_module_version": "1.5.0",
            "_model_name": "ButtonStyleModel",
            "_view_count": null,
            "_view_module": "@jupyter-widgets/base",
            "_view_module_version": "1.2.0",
            "_view_name": "StyleView",
            "button_color": null,
            "font_weight": ""
          }
        },
        "370e1bebf84e44b19889aa09688ac7d1": {
          "model_module": "@jupyter-widgets/base",
          "model_name": "LayoutModel",
          "model_module_version": "1.2.0",
          "state": {
            "_model_module": "@jupyter-widgets/base",
            "_model_module_version": "1.2.0",
            "_model_name": "LayoutModel",
            "_view_count": null,
            "_view_module": "@jupyter-widgets/base",
            "_view_module_version": "1.2.0",
            "_view_name": "LayoutView",
            "align_content": null,
            "align_items": null,
            "align_self": null,
            "border": null,
            "bottom": null,
            "display": null,
            "flex": null,
            "flex_flow": null,
            "grid_area": null,
            "grid_auto_columns": null,
            "grid_auto_flow": null,
            "grid_auto_rows": null,
            "grid_column": null,
            "grid_gap": null,
            "grid_row": null,
            "grid_template_areas": null,
            "grid_template_columns": null,
            "grid_template_rows": null,
            "height": null,
            "justify_content": null,
            "justify_items": null,
            "left": null,
            "margin": null,
            "max_height": null,
            "max_width": null,
            "min_height": null,
            "min_width": null,
            "object_fit": null,
            "object_position": null,
            "order": null,
            "overflow": null,
            "overflow_x": null,
            "overflow_y": null,
            "padding": null,
            "right": null,
            "top": null,
            "visibility": null,
            "width": null
          }
        },
        "de650bfa42544ddd9e4b2b3c8d9fb77f": {
          "model_module": "@jupyter-widgets/controls",
          "model_name": "DescriptionStyleModel",
          "model_module_version": "1.5.0",
          "state": {
            "_model_module": "@jupyter-widgets/controls",
            "_model_module_version": "1.5.0",
            "_model_name": "DescriptionStyleModel",
            "_view_count": null,
            "_view_module": "@jupyter-widgets/base",
            "_view_module_version": "1.2.0",
            "_view_name": "StyleView",
            "description_width": ""
          }
        },
        "f499109afd7e4360b666789e3864c288": {
          "model_module": "@jupyter-widgets/controls",
          "model_name": "LabelModel",
          "model_module_version": "1.5.0",
          "state": {
            "_dom_classes": [],
            "_model_module": "@jupyter-widgets/controls",
            "_model_module_version": "1.5.0",
            "_model_name": "LabelModel",
            "_view_count": null,
            "_view_module": "@jupyter-widgets/controls",
            "_view_module_version": "1.5.0",
            "_view_name": "LabelView",
            "description": "",
            "description_tooltip": null,
            "layout": "IPY_MODEL_18cc78951d8347b19024d47d0ba3b656",
            "placeholder": "​",
            "style": "IPY_MODEL_073003a6f3654374b1ffcf7a576d7a21",
            "value": "Connecting..."
          }
        },
        "18cc78951d8347b19024d47d0ba3b656": {
          "model_module": "@jupyter-widgets/base",
          "model_name": "LayoutModel",
          "model_module_version": "1.2.0",
          "state": {
            "_model_module": "@jupyter-widgets/base",
            "_model_module_version": "1.2.0",
            "_model_name": "LayoutModel",
            "_view_count": null,
            "_view_module": "@jupyter-widgets/base",
            "_view_module_version": "1.2.0",
            "_view_name": "LayoutView",
            "align_content": null,
            "align_items": null,
            "align_self": null,
            "border": null,
            "bottom": null,
            "display": null,
            "flex": null,
            "flex_flow": null,
            "grid_area": null,
            "grid_auto_columns": null,
            "grid_auto_flow": null,
            "grid_auto_rows": null,
            "grid_column": null,
            "grid_gap": null,
            "grid_row": null,
            "grid_template_areas": null,
            "grid_template_columns": null,
            "grid_template_rows": null,
            "height": null,
            "justify_content": null,
            "justify_items": null,
            "left": null,
            "margin": null,
            "max_height": null,
            "max_width": null,
            "min_height": null,
            "min_width": null,
            "object_fit": null,
            "object_position": null,
            "order": null,
            "overflow": null,
            "overflow_x": null,
            "overflow_y": null,
            "padding": null,
            "right": null,
            "top": null,
            "visibility": null,
            "width": null
          }
        },
        "073003a6f3654374b1ffcf7a576d7a21": {
          "model_module": "@jupyter-widgets/controls",
          "model_name": "DescriptionStyleModel",
          "model_module_version": "1.5.0",
          "state": {
            "_model_module": "@jupyter-widgets/controls",
            "_model_module_version": "1.5.0",
            "_model_name": "DescriptionStyleModel",
            "_view_count": null,
            "_view_module": "@jupyter-widgets/base",
            "_view_module_version": "1.2.0",
            "_view_name": "StyleView",
            "description_width": ""
          }
        },
        "be1ec0ace9b540e79a68dab0df272f3e": {
          "model_module": "@jupyter-widgets/controls",
          "model_name": "LabelModel",
          "model_module_version": "1.5.0",
          "state": {
            "_dom_classes": [],
            "_model_module": "@jupyter-widgets/controls",
            "_model_module_version": "1.5.0",
            "_model_name": "LabelModel",
            "_view_count": null,
            "_view_module": "@jupyter-widgets/controls",
            "_view_module_version": "1.5.0",
            "_view_name": "LabelView",
            "description": "",
            "description_tooltip": null,
            "layout": "IPY_MODEL_9c12a15f777845968a1be414d2775934",
            "placeholder": "​",
            "style": "IPY_MODEL_1c3cc7c4763d4d9fbc4f31dca18dca32",
            "value": "Kaggle credentials successfully validated."
          }
        },
        "9c12a15f777845968a1be414d2775934": {
          "model_module": "@jupyter-widgets/base",
          "model_name": "LayoutModel",
          "model_module_version": "1.2.0",
          "state": {
            "_model_module": "@jupyter-widgets/base",
            "_model_module_version": "1.2.0",
            "_model_name": "LayoutModel",
            "_view_count": null,
            "_view_module": "@jupyter-widgets/base",
            "_view_module_version": "1.2.0",
            "_view_name": "LayoutView",
            "align_content": null,
            "align_items": null,
            "align_self": null,
            "border": null,
            "bottom": null,
            "display": null,
            "flex": null,
            "flex_flow": null,
            "grid_area": null,
            "grid_auto_columns": null,
            "grid_auto_flow": null,
            "grid_auto_rows": null,
            "grid_column": null,
            "grid_gap": null,
            "grid_row": null,
            "grid_template_areas": null,
            "grid_template_columns": null,
            "grid_template_rows": null,
            "height": null,
            "justify_content": null,
            "justify_items": null,
            "left": null,
            "margin": null,
            "max_height": null,
            "max_width": null,
            "min_height": null,
            "min_width": null,
            "object_fit": null,
            "object_position": null,
            "order": null,
            "overflow": null,
            "overflow_x": null,
            "overflow_y": null,
            "padding": null,
            "right": null,
            "top": null,
            "visibility": null,
            "width": null
          }
        },
        "1c3cc7c4763d4d9fbc4f31dca18dca32": {
          "model_module": "@jupyter-widgets/controls",
          "model_name": "DescriptionStyleModel",
          "model_module_version": "1.5.0",
          "state": {
            "_model_module": "@jupyter-widgets/controls",
            "_model_module_version": "1.5.0",
            "_model_name": "DescriptionStyleModel",
            "_view_count": null,
            "_view_module": "@jupyter-widgets/base",
            "_view_module_version": "1.2.0",
            "_view_name": "StyleView",
            "description_width": ""
          }
        }
      }
    }
  },
  "nbformat_minor": 0,
  "nbformat": 4,
  "cells": [
    {
      "cell_type": "markdown",
      "metadata": {
        "id": "view-in-github",
        "colab_type": "text"
      },
      "source": [
        "<a href=\"https://colab.research.google.com/github/Akhil66624/Volatility-Curve-Prediction/blob/main/Volatility_Curve_Prediction_notebook.ipynb\" target=\"_parent\"><img src=\"https://colab.research.google.com/assets/colab-badge.svg\" alt=\"Open In Colab\"/></a>"
      ]
    },
    {
      "source": [
        "# IMPORTANT: SOME KAGGLE DATA SOURCES ARE PRIVATE\n",
        "# RUN THIS CELL IN ORDER TO IMPORT YOUR KAGGLE DATA SOURCES.\n",
        "import kagglehub\n",
        "kagglehub.login()\n"
      ],
      "metadata": {
        "id": "_0pAgU-MIPRm",
        "colab": {
          "base_uri": "https://localhost:8080/",
          "height": 84,
          "referenced_widgets": [
            "da440643824246b580611b0c86551daf",
            "573bea6c2b62458fbe2a269a8cf00a1f",
            "a0863f3d62284640be140f9f926e9f90",
            "f6989af76c2145868bf361778a1b4a88",
            "286572a51c21448b89ca546324cd371f",
            "2fd6b62aa8eb4442b7ab4367da2096d3",
            "5551dfc244b74cf699aed7bb0b5046f1",
            "cf4cecc5793e447baf46e43f67e32a27",
            "175b21775735468780f5b43b6d13a5b8",
            "4a910b2a5837417c9a8ed14af95cf4da",
            "2a2b9b031f3d458f902f7dcc270c9c80",
            "365988c5af3247a48665a5b0f203ed45",
            "464f6fc7346c4ca18d8e38106194df19",
            "217629c18e1e4adfb65194abaa90ca43",
            "553fd20069964882890672c2a358dd6d",
            "370e1bebf84e44b19889aa09688ac7d1",
            "de650bfa42544ddd9e4b2b3c8d9fb77f",
            "f499109afd7e4360b666789e3864c288",
            "18cc78951d8347b19024d47d0ba3b656",
            "073003a6f3654374b1ffcf7a576d7a21",
            "be1ec0ace9b540e79a68dab0df272f3e",
            "9c12a15f777845968a1be414d2775934",
            "1c3cc7c4763d4d9fbc4f31dca18dca32"
          ]
        },
        "outputId": "b06968d4-7474-44da-8376-2cd63f5505b6"
      },
      "cell_type": "code",
      "outputs": [
        {
          "output_type": "display_data",
          "data": {
            "text/plain": [
              "VBox(children=(HTML(value='<center> <img\\nsrc=https://www.kaggle.com/static/images/site-logo.png\\nalt=\\'Kaggle…"
            ],
            "application/vnd.jupyter.widget-view+json": {
              "version_major": 2,
              "version_minor": 0,
              "model_id": "da440643824246b580611b0c86551daf"
            }
          },
          "metadata": {}
        },
        {
          "output_type": "stream",
          "name": "stdout",
          "text": [
            "Kaggle credentials set.\n",
            "Kaggle credentials successfully validated.\n"
          ]
        }
      ],
      "execution_count": null
    },
    {
      "source": [
        "# IMPORTANT: RUN THIS CELL IN ORDER TO IMPORT YOUR KAGGLE DATA SOURCES,\n",
        "# THEN FEEL FREE TO DELETE THIS CELL.\n",
        "# NOTE: THIS NOTEBOOK ENVIRONMENT DIFFERS FROM KAGGLE'S PYTHON\n",
        "# ENVIRONMENT SO THERE MAY BE MISSING LIBRARIES USED BY YOUR\n",
        "# NOTEBOOK.\n",
        "\n",
        "nk_iv_prediction_path = kagglehub.competition_download('nk-iv-prediction')\n",
        "\n",
        "print('Data source import complete.')\n"
      ],
      "metadata": {
        "id": "mKnu4cd8IPRn",
        "colab": {
          "base_uri": "https://localhost:8080/"
        },
        "outputId": "5a733580-a033-4089-f51b-3c741d3b6144"
      },
      "cell_type": "code",
      "outputs": [
        {
          "output_type": "stream",
          "name": "stdout",
          "text": [
            "Data source import complete.\n"
          ]
        }
      ],
      "execution_count": null
    },
    {
      "cell_type": "code",
      "source": [
        "!ls\n"
      ],
      "metadata": {
        "colab": {
          "base_uri": "https://localhost:8080/"
        },
        "id": "S56HV2IyYj_E",
        "outputId": "6a46492e-d7a9-4574-81d6-7bd9764a4282"
      },
      "execution_count": null,
      "outputs": [
        {
          "output_type": "stream",
          "name": "stdout",
          "text": [
            "sample_data\n"
          ]
        }
      ]
    },
    {
      "cell_type": "code",
      "source": [
        "# This Python 3 environment comes with many helpful analytics libraries installed\n",
        "# It is defined by the kaggle/python Docker image: https://github.com/kaggle/docker-python\n",
        "# For example, here's several helpful packages to load\n",
        "\n",
        "import numpy as np # linear algebra\n",
        "import pandas as pd # data processing, CSV file I/O (e.g. pd.read_csv)\n",
        "\n",
        "# Input data files are available in the read-only \"../input/\" directory\n",
        "# For example, running this (by clicking run or pressing Shift+Enter) will list all files under the input directory\n",
        "\n",
        "import os\n",
        "for dirname, _, filenames in os.walk('/kaggle/input'):\n",
        "    for filename in filenames:\n",
        "        print(os.path.join(dirname, filename))\n",
        "\n",
        "# You can write up to 20GB to the current directory (/kaggle/working/) that gets preserved as output when you create a version using \"Save & Run All\"\n",
        "# You can also write temporary files to /kaggle/temp/, but they won't be saved outside of the current session"
      ],
      "metadata": {
        "_uuid": "8f2839f25d086af736a60e9eeb907d3b93b6e0e5",
        "_cell_guid": "b1076dfc-b9ad-4769-8c92-a6c4dae69d19",
        "trusted": true,
        "execution": {
          "iopub.status.busy": "2025-05-30T06:30:46.782455Z",
          "iopub.execute_input": "2025-05-30T06:30:46.782631Z",
          "iopub.status.idle": "2025-05-30T06:30:48.569442Z",
          "shell.execute_reply.started": "2025-05-30T06:30:46.782614Z",
          "shell.execute_reply": "2025-05-30T06:30:48.568578Z"
        },
        "id": "4oDspK7DIPRn"
      },
      "outputs": [],
      "execution_count": null
    },
    {
      "cell_type": "code",
      "source": [
        "data_path = '/content/input'\n",
        "output_path = '/content/working'\n",
        "temp_path = '/content/temp'"
      ],
      "metadata": {
        "trusted": true,
        "execution": {
          "iopub.status.busy": "2025-05-30T06:47:06.194881Z",
          "iopub.execute_input": "2025-05-30T06:47:06.195544Z",
          "iopub.status.idle": "2025-05-30T06:47:06.199244Z",
          "shell.execute_reply.started": "2025-05-30T06:47:06.195517Z",
          "shell.execute_reply": "2025-05-30T06:47:06.198446Z"
        },
        "id": "TeqD_8PsIPRn"
      },
      "outputs": [],
      "execution_count": null
    },
    {
      "cell_type": "code",
      "source": [
        "import pandas as pd\n",
        "import numpy as np\n",
        "import lightgbm as lgb\n",
        "from tqdm.auto import tqdm\n",
        "import warnings\n",
        "\n",
        "# Suppress warnings for cleaner output\n",
        "#warnings.filterwarnings('ignore')\n",
        "\n",
        "# --- 1. Load Data ---\n",
        "# Load the training and test datasets.\n",
        "try:\n",
        "    # Path for Kaggle environment\n",
        "    train_df = pd.read_parquet('/content/input/train_data.parquet')\n",
        "    test_df = pd.read_parquet('/content/input/test_data.parquet')\n",
        "    sample_submission_df = pd.read_csv('/content/input/sample_submission.csv')\n",
        "except FileNotFoundError:\n",
        "    # Path for local environment if data is downloaded\n",
        "    print(\"Running in a local environment. Ensure data files are in the current directory.\")\n",
        "    train_df = pd.read_parquet('train_data.parquet')\n",
        "    test_df = pd.read_parquet('test_data.parquet')\n",
        "    sample_submission_df = pd.read_csv('sample_submission.csv')"
      ],
      "metadata": {
        "id": "0fTjctbga9XK"
      },
      "execution_count": null,
      "outputs": []
    },
    {
      "cell_type": "code",
      "source": [
        "# --- 2. Feature Engineering ---\n",
        "# Function to create features that summarize the volatility smile for each timestamp.\n",
        "def create_smile_features(df):\n",
        "    \"\"\"\n",
        "    Creates row-wise summary statistics for call and put IVs.\n",
        "    These features help the model understand the shape of the volatility smile at each timestamp.\n",
        "    \"\"\"\n",
        "    df_copy = df.copy()\n",
        "\n",
        "    # Identify call and put IV columns\n",
        "    call_iv_cols = sorted([c for c in df.columns if 'call_iv_' in c], key=lambda x: int(x.split('_')[-1]))\n",
        "    put_iv_cols = sorted([c for c in df.columns if 'put_iv_' in c], key=lambda x: int(x.split('_')[-1]))\n",
        "    all_iv_cols = call_iv_cols + put_iv_cols\n",
        "\n",
        "    # Calculate smile summary statistics (ignoring NaNs)\n",
        "    df_copy['iv_mean'] = df_copy[all_iv_cols].mean(axis=1)\n",
        "    df_copy['iv_std'] = df_copy[all_iv_cols].std(axis=1)\n",
        "    df_copy['iv_skew'] = df_copy[all_iv_cols].skew(axis=1)\n",
        "    df_copy['iv_kurtosis'] = df_copy[all_iv_cols].kurtosis(axis=1)\n",
        "\n",
        "    df_copy['call_iv_mean'] = df_copy[call_iv_cols].mean(axis=1)\n",
        "    df_copy['put_iv_mean'] = df_copy[put_iv_cols].mean(axis=1)\n",
        "    df_copy['call_iv_std'] = df_copy[call_iv_cols].std(axis=1)\n",
        "    df_copy['put_iv_std'] = df_copy[put_iv_cols].std(axis=1)\n",
        "\n",
        "    return df_copy\n",
        "\n",
        "print(\"Creating smile features for train and test data...\")\n",
        "train_featured = create_smile_features(train_df)\n",
        "test_featured = create_smile_features(test_df)\n",
        "print(\"Feature engineering complete.\")"
      ],
      "metadata": {
        "colab": {
          "base_uri": "https://localhost:8080/"
        },
        "id": "5oLT9XrbcR4I",
        "outputId": "39e2a0e0-79f1-4e20-dbc1-82b48c01a15f"
      },
      "execution_count": null,
      "outputs": [
        {
          "output_type": "stream",
          "name": "stdout",
          "text": [
            "Creating smile features for train and test data...\n",
            "Feature engineering complete.\n"
          ]
        }
      ]
    },
    {
      "cell_type": "code",
      "source": [
        "# --- 3. Data Transformation ---\n",
        "# Function to transform the data from wide to long format.\n",
        "def transform_to_long_format(df):\n",
        "    \"\"\"\n",
        "    Melts the dataframe to a long format where each row represents a single option.\n",
        "    Also creates option-specific features like strike, option_type, and moneyness.\n",
        "    \"\"\"\n",
        "    # Identify feature columns (non-IV columns)\n",
        "    feature_cols = [c for c in df.columns if not ('iv_' in c and c not in ['iv_mean', 'iv_std', 'iv_skew', 'iv_kurtosis', 'call_iv_mean', 'put_iv_mean', 'call_iv_std', 'put_iv_std'])]\n",
        "\n",
        "    # Melt the dataframe\n",
        "    long_df = pd.melt(df, id_vars=feature_cols, var_name='option_name', value_name='iv')\n",
        "\n",
        "    # Extract option type and strike price from the option_name\n",
        "    long_df['option_type'] = long_df['option_name'].apply(lambda x: 1 if 'call' in x else 0) # 1 for call, 0 for put\n",
        "    long_df['strike'] = long_df['option_name'].apply(lambda x: int(x.split('_')[-1]))\n",
        "\n",
        "    # Create moneyness feature\n",
        "    long_df['moneyness'] = long_df['strike'] / long_df['underlying']\n",
        "\n",
        "    return long_df\n",
        "\n",
        "print(\"Transforming training data to long format...\")\n",
        "train_long = transform_to_long_format(train_featured)\n",
        "# Drop rows with NaN IVs in training data as they cannot be used for training\n",
        "train_long.dropna(subset=['iv'], inplace=True)\n",
        "print(\"Training data transformation complete.\")"
      ],
      "metadata": {
        "colab": {
          "base_uri": "https://localhost:8080/"
        },
        "id": "oZCVfhHedXsN",
        "outputId": "0ee4e885-9cd9-4eb5-e016-a199db66d332"
      },
      "execution_count": null,
      "outputs": [
        {
          "output_type": "stream",
          "name": "stdout",
          "text": [
            "Transforming training data to long format...\n"
          ]
        }
      ]
    },
    {
      "cell_type": "code",
      "source": [
        "# --- 4. Model Training ---\n",
        "# Define features and target for the LightGBM model.\n",
        "FEATURES = [\n",
        "    'underlying', 'iv_mean', 'iv_std', 'iv_skew', 'iv_kurtosis',\n",
        "    'call_iv_mean', 'put_iv_mean', 'call_iv_std', 'put_iv_std',\n",
        "    'option_type', 'strike', 'moneyness'\n",
        "] + [f'X{i}' for i in range(42)]\n",
        "\n",
        "TARGET = 'iv'\n",
        "\n",
        "# Prepare training data\n",
        "X_train = train_long[FEATURES]\n",
        "y_train = train_long[TARGET]\n",
        "\n",
        "# Define LightGBM model parameters\n",
        "# These parameters are chosen for a good balance of speed and accuracy.\n",
        "lgb_params = {\n",
        "    'objective': 'regression_l1', # MAE is robust to outliers\n",
        "    'metric': 'rmse',\n",
        "    'n_estimators': 2000,\n",
        "    'learning_rate': 0.02,\n",
        "    'feature_fraction': 0.8,\n",
        "    'bagging_fraction': 0.8,\n",
        "    'bagging_freq': 1,\n",
        "    'lambda_l1': 0.1,\n",
        "    'lambda_l2': 0.1,\n",
        "    'num_leaves': 64,\n",
        "    'verbose': -1,\n",
        "    'n_jobs': -1,\n",
        "    'seed': 42,\n",
        "    'boosting_type': 'gbdt',\n",
        "}\n",
        "\n",
        "print(\"Training LightGBM model...\")\n",
        "model = lgb.LGBMRegressor(**lgb_params)\n",
        "model.fit(X_train, y_train)\n",
        "print(\"Model training complete.\")"
      ],
      "metadata": {
        "id": "5WSdoUIfkAvw"
      },
      "execution_count": null,
      "outputs": []
    },
    {
      "cell_type": "code",
      "source": [
        "# --- 5. Prediction ---\n",
        "print(\"Transforming test data and preparing for prediction...\")\n",
        "# Transform test data to long format\n",
        "test_long = transform_to_long_format(test_featured)\n",
        "\n",
        "# Identify rows where IV is missing (NaN)\n",
        "missing_iv_mask = test_long['iv'].isna()\n",
        "X_test_predict = test_long.loc[missing_iv_mask, FEATURES]\n",
        "\n",
        "print(f\"Predicting {len(X_test_predict)} missing IV values...\")\n",
        "predictions = model.predict(X_test_predict)\n",
        "\n",
        "# Fill the missing IV values in the long format dataframe with the predictions\n",
        "test_long.loc[missing_iv_mask, 'iv'] = predictions\n",
        "print(\"Prediction complete.\")"
      ],
      "metadata": {
        "id": "nZDL-PUWkzEU"
      },
      "execution_count": null,
      "outputs": []
    },
    {
      "cell_type": "code",
      "source": [
        "# --- 6. Generate Submission File ---\n",
        "print(\"Pivoting data back to wide format for submission...\")\n",
        "# Pivot the table back to the wide submission format\n",
        "submission_pivot = test_long.pivot_table(\n",
        "    index='timestamp',\n",
        "    columns='option_name',\n",
        "    values='iv'\n",
        ").reset_index()\n",
        "\n",
        "# Ensure the columns are in the same order as the sample submission file\n",
        "final_submission = submission_pivot[sample_submission_df.columns]\n",
        "\n",
        "# Save the submission file\n",
        "final_submission.to_csv('submission.csv', index=False)\n",
        "print(\"Submission file 'submission.csv' has been generated successfully.\")"
      ],
      "metadata": {
        "id": "f1SiEmPil8w1"
      },
      "execution_count": null,
      "outputs": []
    },
    {
      "cell_type": "code",
      "source": [
        "# Load the test data\n",
        "test_df = pd.read_parquet(f'{data_path}/test_data.parquet')\n",
        "\n",
        "# Sample prediction\n",
        "test_df = test_df.replace(np.nan, 0.2)"
      ],
      "metadata": {
        "trusted": true,
        "execution": {
          "iopub.status.busy": "2025-05-30T06:47:07.354496Z",
          "iopub.execute_input": "2025-05-30T06:47:07.35481Z",
          "iopub.status.idle": "2025-05-30T06:47:07.624745Z",
          "shell.execute_reply.started": "2025-05-30T06:47:07.354754Z",
          "shell.execute_reply": "2025-05-30T06:47:07.623916Z"
        },
        "id": "HJBJQoY6IPRo"
      },
      "outputs": [],
      "execution_count": null
    },
    {
      "cell_type": "code",
      "source": [
        "sample_submission = pd.read_csv(f'{data_path}/sample_submission.csv')\n",
        "submission_cols = sample_submission.columns.tolist()\n",
        "\n",
        "submission_df = test_df[submission_cols]\n",
        "submission_df.to_csv(f'{output_path}/submission.csv', index = False)"
      ],
      "metadata": {
        "trusted": true,
        "execution": {
          "iopub.status.busy": "2025-05-30T06:47:08.578954Z",
          "iopub.execute_input": "2025-05-30T06:47:08.57927Z",
          "iopub.status.idle": "2025-05-30T06:47:09.338882Z",
          "shell.execute_reply.started": "2025-05-30T06:47:08.579246Z",
          "shell.execute_reply": "2025-05-30T06:47:09.338135Z"
        },
        "id": "7Ni46gGiIPRo"
      },
      "outputs": [],
      "execution_count": null
    },
    {
      "cell_type": "code",
      "source": [],
      "metadata": {
        "trusted": true,
        "id": "vmo9Ec1_IPRo"
      },
      "outputs": [],
      "execution_count": null
    }
  ]
}