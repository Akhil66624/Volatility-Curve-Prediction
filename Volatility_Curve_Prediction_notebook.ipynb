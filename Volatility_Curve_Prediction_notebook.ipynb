{
  "metadata": {
    "kernelspec": {
      "language": "python",
      "display_name": "Python 3",
      "name": "python3"
    },
    "language_info": {
      "name": "python",
      "version": "3.11.11",
      "mimetype": "text/x-python",
      "codemirror_mode": {
        "name": "ipython",
        "version": 3
      },
      "pygments_lexer": "ipython3",
      "nbconvert_exporter": "python",
      "file_extension": ".py"
    },
    "kaggle": {
      "accelerator": "none",
      "dataSources": [
        {
          "sourceId": 104024,
          "databundleVersionId": 12520411,
          "sourceType": "competition"
        }
      ],
      "dockerImageVersionId": 31040,
      "isInternetEnabled": true,
      "language": "python",
      "sourceType": "notebook",
      "isGpuEnabled": false
    },
    "colab": {
      "name": "sample notebook",
      "provenance": [],
      "include_colab_link": true
    }
  },
  "nbformat_minor": 0,
  "nbformat": 4,
  "cells": [
    {
      "cell_type": "markdown",
      "metadata": {
        "id": "view-in-github",
        "colab_type": "text"
      },
      "source": [
        "<a href=\"https://colab.research.google.com/github/Akhil66624/Volatility-Curve-Prediction/blob/main/Volatility_Curve_Prediction_notebook.ipynb\" target=\"_parent\"><img src=\"https://colab.research.google.com/assets/colab-badge.svg\" alt=\"Open In Colab\"/></a>"
      ]
    },
    {
      "source": [
        "# IMPORTANT: SOME KAGGLE DATA SOURCES ARE PRIVATE\n",
        "# RUN THIS CELL IN ORDER TO IMPORT YOUR KAGGLE DATA SOURCES.\n",
        "import kagglehub\n",
        "kagglehub.login()\n"
      ],
      "metadata": {
        "id": "_0pAgU-MIPRm"
      },
      "cell_type": "code",
      "outputs": [],
      "execution_count": null
    },
    {
      "source": [
        "# IMPORTANT: RUN THIS CELL IN ORDER TO IMPORT YOUR KAGGLE DATA SOURCES,\n",
        "# THEN FEEL FREE TO DELETE THIS CELL.\n",
        "# NOTE: THIS NOTEBOOK ENVIRONMENT DIFFERS FROM KAGGLE'S PYTHON\n",
        "# ENVIRONMENT SO THERE MAY BE MISSING LIBRARIES USED BY YOUR\n",
        "# NOTEBOOK.\n",
        "\n",
        "nk_iv_prediction_path = kagglehub.competition_download('nk-iv-prediction')\n",
        "\n",
        "print('Data source import complete.')\n"
      ],
      "metadata": {
        "id": "mKnu4cd8IPRn"
      },
      "cell_type": "code",
      "outputs": [],
      "execution_count": null
    },
    {
      "cell_type": "code",
      "source": [
        "# This Python 3 environment comes with many helpful analytics libraries installed\n",
        "# It is defined by the kaggle/python Docker image: https://github.com/kaggle/docker-python\n",
        "# For example, here's several helpful packages to load\n",
        "\n",
        "import numpy as np # linear algebra\n",
        "import pandas as pd # data processing, CSV file I/O (e.g. pd.read_csv)\n",
        "\n",
        "# Input data files are available in the read-only \"../input/\" directory\n",
        "# For example, running this (by clicking run or pressing Shift+Enter) will list all files under the input directory\n",
        "\n",
        "import os\n",
        "for dirname, _, filenames in os.walk('/kaggle/input'):\n",
        "    for filename in filenames:\n",
        "        print(os.path.join(dirname, filename))\n",
        "\n",
        "# You can write up to 20GB to the current directory (/kaggle/working/) that gets preserved as output when you create a version using \"Save & Run All\"\n",
        "# You can also write temporary files to /kaggle/temp/, but they won't be saved outside of the current session"
      ],
      "metadata": {
        "_uuid": "8f2839f25d086af736a60e9eeb907d3b93b6e0e5",
        "_cell_guid": "b1076dfc-b9ad-4769-8c92-a6c4dae69d19",
        "trusted": true,
        "execution": {
          "iopub.status.busy": "2025-05-30T06:30:46.782455Z",
          "iopub.execute_input": "2025-05-30T06:30:46.782631Z",
          "iopub.status.idle": "2025-05-30T06:30:48.569442Z",
          "shell.execute_reply.started": "2025-05-30T06:30:46.782614Z",
          "shell.execute_reply": "2025-05-30T06:30:48.568578Z"
        },
        "id": "4oDspK7DIPRn"
      },
      "outputs": [],
      "execution_count": null
    },
    {
      "cell_type": "code",
      "source": [
        "data_path = '/kaggle/input/volatility-smile-prediction'\n",
        "output_path = '/kaggle/working'\n",
        "temp_path = '/kaggle/temp'"
      ],
      "metadata": {
        "trusted": true,
        "execution": {
          "iopub.status.busy": "2025-05-30T06:47:06.194881Z",
          "iopub.execute_input": "2025-05-30T06:47:06.195544Z",
          "iopub.status.idle": "2025-05-30T06:47:06.199244Z",
          "shell.execute_reply.started": "2025-05-30T06:47:06.195517Z",
          "shell.execute_reply": "2025-05-30T06:47:06.198446Z"
        },
        "id": "TeqD_8PsIPRn"
      },
      "outputs": [],
      "execution_count": null
    },
    {
      "cell_type": "code",
      "source": [
        "# Load the test data\n",
        "test_df = pd.read_parquet(f'{data_path}/test_data.parquet')\n",
        "\n",
        "# Sample prediction\n",
        "test_df = test_df.replace(np.nan, 0.2)"
      ],
      "metadata": {
        "trusted": true,
        "execution": {
          "iopub.status.busy": "2025-05-30T06:47:07.354496Z",
          "iopub.execute_input": "2025-05-30T06:47:07.35481Z",
          "iopub.status.idle": "2025-05-30T06:47:07.624745Z",
          "shell.execute_reply.started": "2025-05-30T06:47:07.354754Z",
          "shell.execute_reply": "2025-05-30T06:47:07.623916Z"
        },
        "id": "HJBJQoY6IPRo"
      },
      "outputs": [],
      "execution_count": null
    },
    {
      "cell_type": "code",
      "source": [
        "sample_submission = pd.read_csv(f'{data_path}/sample_submission.csv')\n",
        "submission_cols = sample_submission.columns.tolist()\n",
        "\n",
        "submission_df = test_df[submission_cols]\n",
        "submission_df.to_csv(f'{output_path}/submission.csv', index = False)"
      ],
      "metadata": {
        "trusted": true,
        "execution": {
          "iopub.status.busy": "2025-05-30T06:47:08.578954Z",
          "iopub.execute_input": "2025-05-30T06:47:08.57927Z",
          "iopub.status.idle": "2025-05-30T06:47:09.338882Z",
          "shell.execute_reply.started": "2025-05-30T06:47:08.579246Z",
          "shell.execute_reply": "2025-05-30T06:47:09.338135Z"
        },
        "id": "7Ni46gGiIPRo"
      },
      "outputs": [],
      "execution_count": null
    },
    {
      "cell_type": "code",
      "source": [],
      "metadata": {
        "trusted": true,
        "id": "vmo9Ec1_IPRo"
      },
      "outputs": [],
      "execution_count": null
    }
  ]
}